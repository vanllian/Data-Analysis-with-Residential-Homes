{
 "cells": [
  {
   "cell_type": "code",
   "execution_count": 50,
   "metadata": {},
   "outputs": [],
   "source": [
    "import numpy as np\n",
    "import pandas as pd\n",
    "import matplotlib.pyplot as plt"
   ]
  },
  {
   "cell_type": "markdown",
   "metadata": {},
   "source": [
    "### read dfnames"
   ]
  },
  {
   "cell_type": "code",
   "execution_count": 51,
   "metadata": {},
   "outputs": [
    {
     "data": {
      "text/html": [
       "<div>\n",
       "<style scoped>\n",
       "    .dataframe tbody tr th:only-of-type {\n",
       "        vertical-align: middle;\n",
       "    }\n",
       "\n",
       "    .dataframe tbody tr th {\n",
       "        vertical-align: top;\n",
       "    }\n",
       "\n",
       "    .dataframe thead th {\n",
       "        text-align: right;\n",
       "    }\n",
       "</style>\n",
       "<table border=\"1\" class=\"dataframe\">\n",
       "  <thead>\n",
       "    <tr style=\"text-align: right;\">\n",
       "      <th></th>\n",
       "      <th>Symbol</th>\n",
       "      <th>Name</th>\n",
       "      <th>Sector</th>\n",
       "    </tr>\n",
       "  </thead>\n",
       "  <tbody>\n",
       "    <tr>\n",
       "      <td>0</td>\n",
       "      <td>MMM</td>\n",
       "      <td>3M Company</td>\n",
       "      <td>Industrials</td>\n",
       "    </tr>\n",
       "    <tr>\n",
       "      <td>1</td>\n",
       "      <td>AOS</td>\n",
       "      <td>A.O. Smith Corp</td>\n",
       "      <td>Industrials</td>\n",
       "    </tr>\n",
       "    <tr>\n",
       "      <td>2</td>\n",
       "      <td>ABT</td>\n",
       "      <td>Abbott Laboratories</td>\n",
       "      <td>Health Care</td>\n",
       "    </tr>\n",
       "    <tr>\n",
       "      <td>3</td>\n",
       "      <td>ABBV</td>\n",
       "      <td>AbbVie Inc.</td>\n",
       "      <td>Health Care</td>\n",
       "    </tr>\n",
       "    <tr>\n",
       "      <td>4</td>\n",
       "      <td>ACN</td>\n",
       "      <td>Accenture plc</td>\n",
       "      <td>Information Technology</td>\n",
       "    </tr>\n",
       "  </tbody>\n",
       "</table>\n",
       "</div>"
      ],
      "text/plain": [
       "  Symbol                 Name                  Sector\n",
       "0    MMM           3M Company             Industrials\n",
       "1    AOS      A.O. Smith Corp             Industrials\n",
       "2    ABT  Abbott Laboratories             Health Care\n",
       "3   ABBV          AbbVie Inc.             Health Care\n",
       "4    ACN        Accenture plc  Information Technology"
      ]
     },
     "execution_count": 51,
     "metadata": {},
     "output_type": "execute_result"
    }
   ],
   "source": [
    "dfnames = pd.read_csv('constituents.csv')\n",
    "dfnames[:5]"
   ]
  },
  {
   "cell_type": "code",
   "execution_count": 52,
   "metadata": {},
   "outputs": [
    {
     "data": {
      "text/plain": [
       "(460, 3)"
      ]
     },
     "execution_count": 52,
     "metadata": {},
     "output_type": "execute_result"
    }
   ],
   "source": [
    "dfnames.shape"
   ]
  },
  {
   "cell_type": "markdown",
   "metadata": {},
   "source": [
    "### read dfprices"
   ]
  },
  {
   "cell_type": "code",
   "execution_count": 53,
   "metadata": {},
   "outputs": [
    {
     "data": {
      "text/plain": [
       "(355, 461)"
      ]
     },
     "execution_count": 53,
     "metadata": {},
     "output_type": "execute_result"
    }
   ],
   "source": [
    "dfprices = pd.read_csv('prices.csv')\n",
    "dfprices.shape"
   ]
  },
  {
   "cell_type": "code",
   "execution_count": 54,
   "metadata": {},
   "outputs": [
    {
     "data": {
      "text/html": [
       "<div>\n",
       "<style scoped>\n",
       "    .dataframe tbody tr th:only-of-type {\n",
       "        vertical-align: middle;\n",
       "    }\n",
       "\n",
       "    .dataframe tbody tr th {\n",
       "        vertical-align: top;\n",
       "    }\n",
       "\n",
       "    .dataframe thead th {\n",
       "        text-align: right;\n",
       "    }\n",
       "</style>\n",
       "<table border=\"1\" class=\"dataframe\">\n",
       "  <thead>\n",
       "    <tr style=\"text-align: right;\">\n",
       "      <th></th>\n",
       "      <th>Date</th>\n",
       "      <th>MMM</th>\n",
       "      <th>AOS</th>\n",
       "      <th>ABT</th>\n",
       "    </tr>\n",
       "  </thead>\n",
       "  <tbody>\n",
       "    <tr>\n",
       "      <td>0</td>\n",
       "      <td>2019-01-02</td>\n",
       "      <td>181.270157</td>\n",
       "      <td>42.208401</td>\n",
       "      <td>67.791504</td>\n",
       "    </tr>\n",
       "    <tr>\n",
       "      <td>1</td>\n",
       "      <td>2019-01-03</td>\n",
       "      <td>174.444626</td>\n",
       "      <td>41.188873</td>\n",
       "      <td>64.592140</td>\n",
       "    </tr>\n",
       "    <tr>\n",
       "      <td>2</td>\n",
       "      <td>2019-01-04</td>\n",
       "      <td>181.621399</td>\n",
       "      <td>42.839535</td>\n",
       "      <td>66.435669</td>\n",
       "    </tr>\n",
       "    <tr>\n",
       "      <td>3</td>\n",
       "      <td>2019-01-07</td>\n",
       "      <td>181.203720</td>\n",
       "      <td>43.606602</td>\n",
       "      <td>67.430595</td>\n",
       "    </tr>\n",
       "  </tbody>\n",
       "</table>\n",
       "</div>"
      ],
      "text/plain": [
       "         Date         MMM        AOS        ABT\n",
       "0  2019-01-02  181.270157  42.208401  67.791504\n",
       "1  2019-01-03  174.444626  41.188873  64.592140\n",
       "2  2019-01-04  181.621399  42.839535  66.435669\n",
       "3  2019-01-07  181.203720  43.606602  67.430595"
      ]
     },
     "execution_count": 54,
     "metadata": {},
     "output_type": "execute_result"
    }
   ],
   "source": [
    "dfprices.iloc[:4,:4]"
   ]
  },
  {
   "cell_type": "code",
   "execution_count": 55,
   "metadata": {},
   "outputs": [],
   "source": [
    "# earliest and latest Date"
   ]
  },
  {
   "cell_type": "code",
   "execution_count": 56,
   "metadata": {},
   "outputs": [
    {
     "data": {
      "text/plain": [
       "('2019-01-02', '2020-05-29')"
      ]
     },
     "execution_count": 56,
     "metadata": {},
     "output_type": "execute_result"
    }
   ],
   "source": [
    "dfprices.Date.min(),dfprices.Date.max()"
   ]
  },
  {
   "cell_type": "code",
   "execution_count": 57,
   "metadata": {},
   "outputs": [],
   "source": [
    "# Let Date be the index of dfprices"
   ]
  },
  {
   "cell_type": "code",
   "execution_count": 58,
   "metadata": {},
   "outputs": [
    {
     "data": {
      "text/html": [
       "<div>\n",
       "<style scoped>\n",
       "    .dataframe tbody tr th:only-of-type {\n",
       "        vertical-align: middle;\n",
       "    }\n",
       "\n",
       "    .dataframe tbody tr th {\n",
       "        vertical-align: top;\n",
       "    }\n",
       "\n",
       "    .dataframe thead th {\n",
       "        text-align: right;\n",
       "    }\n",
       "</style>\n",
       "<table border=\"1\" class=\"dataframe\">\n",
       "  <thead>\n",
       "    <tr style=\"text-align: right;\">\n",
       "      <th></th>\n",
       "      <th>MMM</th>\n",
       "      <th>AOS</th>\n",
       "      <th>ABT</th>\n",
       "      <th>ABBV</th>\n",
       "    </tr>\n",
       "    <tr>\n",
       "      <th>Date</th>\n",
       "      <th></th>\n",
       "      <th></th>\n",
       "      <th></th>\n",
       "      <th></th>\n",
       "    </tr>\n",
       "  </thead>\n",
       "  <tbody>\n",
       "    <tr>\n",
       "      <td>2019-01-02</td>\n",
       "      <td>181.270157</td>\n",
       "      <td>42.208401</td>\n",
       "      <td>67.791504</td>\n",
       "      <td>80.913643</td>\n",
       "    </tr>\n",
       "    <tr>\n",
       "      <td>2019-01-03</td>\n",
       "      <td>174.444626</td>\n",
       "      <td>41.188873</td>\n",
       "      <td>64.592140</td>\n",
       "      <td>78.247650</td>\n",
       "    </tr>\n",
       "    <tr>\n",
       "      <td>2019-01-04</td>\n",
       "      <td>181.621399</td>\n",
       "      <td>42.839535</td>\n",
       "      <td>66.435669</td>\n",
       "      <td>80.768547</td>\n",
       "    </tr>\n",
       "    <tr>\n",
       "      <td>2019-01-07</td>\n",
       "      <td>181.203720</td>\n",
       "      <td>43.606602</td>\n",
       "      <td>67.430595</td>\n",
       "      <td>81.947380</td>\n",
       "    </tr>\n",
       "  </tbody>\n",
       "</table>\n",
       "</div>"
      ],
      "text/plain": [
       "                   MMM        AOS        ABT       ABBV\n",
       "Date                                                   \n",
       "2019-01-02  181.270157  42.208401  67.791504  80.913643\n",
       "2019-01-03  174.444626  41.188873  64.592140  78.247650\n",
       "2019-01-04  181.621399  42.839535  66.435669  80.768547\n",
       "2019-01-07  181.203720  43.606602  67.430595  81.947380"
      ]
     },
     "execution_count": 58,
     "metadata": {},
     "output_type": "execute_result"
    }
   ],
   "source": [
    "dfprices.set_index('Date',inplace=True)\n",
    "dfprices.iloc[:4,:4]"
   ]
  },
  {
   "cell_type": "code",
   "execution_count": 59,
   "metadata": {},
   "outputs": [
    {
     "data": {
      "text/plain": [
       "(355, 460)"
      ]
     },
     "execution_count": 59,
     "metadata": {},
     "output_type": "execute_result"
    }
   ],
   "source": [
    "dfprices.shape"
   ]
  },
  {
   "cell_type": "markdown",
   "metadata": {},
   "source": [
    "### 1) Number of companies in each sector"
   ]
  },
  {
   "cell_type": "code",
   "execution_count": 60,
   "metadata": {},
   "outputs": [
    {
     "data": {
      "text/plain": [
       "Consumer Discretionary        75\n",
       "Information Technology        64\n",
       "Financials                    62\n",
       "Industrials                   61\n",
       "Health Care                   56\n",
       "Consumer Staples              32\n",
       "Real Estate                   29\n",
       "Energy                        28\n",
       "Utilities                     28\n",
       "Materials                     22\n",
       "Telecommunication Services     3\n",
       "Name: Sector, dtype: int64"
      ]
     },
     "execution_count": 60,
     "metadata": {},
     "output_type": "execute_result"
    }
   ],
   "source": [
    "dfnames['Sector'].value_counts()"
   ]
  },
  {
   "cell_type": "markdown",
   "metadata": {},
   "source": [
    "### 2) Correlation Matrix"
   ]
  },
  {
   "cell_type": "code",
   "execution_count": 61,
   "metadata": {},
   "outputs": [],
   "source": [
    "# Find net returns"
   ]
  },
  {
   "cell_type": "code",
   "execution_count": 62,
   "metadata": {
    "scrolled": false
   },
   "outputs": [],
   "source": [
    "net_returns = dfprices / dfprices.shift(1) - 1"
   ]
  },
  {
   "cell_type": "code",
   "execution_count": 63,
   "metadata": {},
   "outputs": [
    {
     "data": {
      "text/html": [
       "<div>\n",
       "<style scoped>\n",
       "    .dataframe tbody tr th:only-of-type {\n",
       "        vertical-align: middle;\n",
       "    }\n",
       "\n",
       "    .dataframe tbody tr th {\n",
       "        vertical-align: top;\n",
       "    }\n",
       "\n",
       "    .dataframe thead th {\n",
       "        text-align: right;\n",
       "    }\n",
       "</style>\n",
       "<table border=\"1\" class=\"dataframe\">\n",
       "  <thead>\n",
       "    <tr style=\"text-align: right;\">\n",
       "      <th></th>\n",
       "      <th>MMM</th>\n",
       "      <th>AOS</th>\n",
       "      <th>ABT</th>\n",
       "      <th>ABBV</th>\n",
       "      <th>ACN</th>\n",
       "    </tr>\n",
       "  </thead>\n",
       "  <tbody>\n",
       "    <tr>\n",
       "      <td>MMM</td>\n",
       "      <td>1.000000</td>\n",
       "      <td>0.594449</td>\n",
       "      <td>0.576961</td>\n",
       "      <td>0.452514</td>\n",
       "      <td>0.635089</td>\n",
       "    </tr>\n",
       "    <tr>\n",
       "      <td>AOS</td>\n",
       "      <td>0.594449</td>\n",
       "      <td>1.000000</td>\n",
       "      <td>0.453195</td>\n",
       "      <td>0.343838</td>\n",
       "      <td>0.514166</td>\n",
       "    </tr>\n",
       "    <tr>\n",
       "      <td>ABT</td>\n",
       "      <td>0.576961</td>\n",
       "      <td>0.453195</td>\n",
       "      <td>1.000000</td>\n",
       "      <td>0.568671</td>\n",
       "      <td>0.696058</td>\n",
       "    </tr>\n",
       "    <tr>\n",
       "      <td>ABBV</td>\n",
       "      <td>0.452514</td>\n",
       "      <td>0.343838</td>\n",
       "      <td>0.568671</td>\n",
       "      <td>1.000000</td>\n",
       "      <td>0.563359</td>\n",
       "    </tr>\n",
       "    <tr>\n",
       "      <td>ACN</td>\n",
       "      <td>0.635089</td>\n",
       "      <td>0.514166</td>\n",
       "      <td>0.696058</td>\n",
       "      <td>0.563359</td>\n",
       "      <td>1.000000</td>\n",
       "    </tr>\n",
       "  </tbody>\n",
       "</table>\n",
       "</div>"
      ],
      "text/plain": [
       "           MMM       AOS       ABT      ABBV       ACN\n",
       "MMM   1.000000  0.594449  0.576961  0.452514  0.635089\n",
       "AOS   0.594449  1.000000  0.453195  0.343838  0.514166\n",
       "ABT   0.576961  0.453195  1.000000  0.568671  0.696058\n",
       "ABBV  0.452514  0.343838  0.568671  1.000000  0.563359\n",
       "ACN   0.635089  0.514166  0.696058  0.563359  1.000000"
      ]
     },
     "execution_count": 63,
     "metadata": {},
     "output_type": "execute_result"
    }
   ],
   "source": [
    "corrs = net_returns.corr()\n",
    "corrs.iloc[:5,:5]"
   ]
  },
  {
   "cell_type": "code",
   "execution_count": 64,
   "metadata": {},
   "outputs": [
    {
     "data": {
      "text/plain": [
       "(460, 460)"
      ]
     },
     "execution_count": 64,
     "metadata": {},
     "output_type": "execute_result"
    }
   ],
   "source": [
    "corrs.shape"
   ]
  },
  {
   "cell_type": "markdown",
   "metadata": {},
   "source": [
    "### 3. Companies with smallest correlation"
   ]
  },
  {
   "cell_type": "code",
   "execution_count": 65,
   "metadata": {},
   "outputs": [
    {
     "data": {
      "text/plain": [
       "-0.17560613592975668"
      ]
     },
     "execution_count": 65,
     "metadata": {},
     "output_type": "execute_result"
    }
   ],
   "source": [
    "mincorr = corrs.values.min()\n",
    "mincorr"
   ]
  },
  {
   "cell_type": "code",
   "execution_count": 66,
   "metadata": {},
   "outputs": [],
   "source": [
    "# find the stocks leading to mincorr"
   ]
  },
  {
   "cell_type": "code",
   "execution_count": 67,
   "metadata": {},
   "outputs": [
    {
     "data": {
      "text/plain": [
       "(array([179, 238]), array([238, 179]))"
      ]
     },
     "execution_count": 67,
     "metadata": {},
     "output_type": "execute_result"
    }
   ],
   "source": [
    "np.where(corrs == mincorr)"
   ]
  },
  {
   "cell_type": "code",
   "execution_count": 68,
   "metadata": {},
   "outputs": [],
   "source": [
    "# display their names"
   ]
  },
  {
   "cell_type": "code",
   "execution_count": 69,
   "metadata": {},
   "outputs": [
    {
     "data": {
      "text/plain": [
       "('FLR', 'SJM')"
      ]
     },
     "execution_count": 69,
     "metadata": {},
     "output_type": "execute_result"
    }
   ],
   "source": [
    "corrs.columns[179],corrs.columns[238]"
   ]
  },
  {
   "cell_type": "code",
   "execution_count": 70,
   "metadata": {},
   "outputs": [
    {
     "data": {
      "text/html": [
       "<div>\n",
       "<style scoped>\n",
       "    .dataframe tbody tr th:only-of-type {\n",
       "        vertical-align: middle;\n",
       "    }\n",
       "\n",
       "    .dataframe tbody tr th {\n",
       "        vertical-align: top;\n",
       "    }\n",
       "\n",
       "    .dataframe thead th {\n",
       "        text-align: right;\n",
       "    }\n",
       "</style>\n",
       "<table border=\"1\" class=\"dataframe\">\n",
       "  <thead>\n",
       "    <tr style=\"text-align: right;\">\n",
       "      <th></th>\n",
       "      <th>Symbol</th>\n",
       "      <th>Name</th>\n",
       "      <th>Sector</th>\n",
       "    </tr>\n",
       "  </thead>\n",
       "  <tbody>\n",
       "    <tr>\n",
       "      <td>179</td>\n",
       "      <td>FLR</td>\n",
       "      <td>Fluor Corp.</td>\n",
       "      <td>Industrials</td>\n",
       "    </tr>\n",
       "    <tr>\n",
       "      <td>238</td>\n",
       "      <td>SJM</td>\n",
       "      <td>JM Smucker</td>\n",
       "      <td>Consumer Staples</td>\n",
       "    </tr>\n",
       "  </tbody>\n",
       "</table>\n",
       "</div>"
      ],
      "text/plain": [
       "    Symbol         Name            Sector\n",
       "179    FLR  Fluor Corp.       Industrials\n",
       "238    SJM   JM Smucker  Consumer Staples"
      ]
     },
     "execution_count": 70,
     "metadata": {},
     "output_type": "execute_result"
    }
   ],
   "source": [
    "dfnames[(dfnames['Symbol'] == 'FLR') | (dfnames['Symbol'] == 'SJM')]"
   ]
  },
  {
   "cell_type": "code",
   "execution_count": 71,
   "metadata": {},
   "outputs": [],
   "source": [
    "# Scatterplot of their net returns"
   ]
  },
  {
   "cell_type": "code",
   "execution_count": 72,
   "metadata": {},
   "outputs": [
    {
     "data": {
      "image/png": "[encoded data removed]",
      "text/plain": [
       "<Figure size 432x288 with 1 Axes>"
      ]
     },
     "metadata": {
      "needs_background": "light"
     },
     "output_type": "display_data"
    }
   ],
   "source": [
    "plt.scatter(net_returns['SJM'], net_returns['FLR'],s=4) \n",
    "plt.ylim(-1,1)\n",
    "plt.xlabel('SJM')\n",
    "plt.ylabel('FLR')\n",
    "plt.grid()"
   ]
  },
  {
   "cell_type": "code",
   "execution_count": 73,
   "metadata": {},
   "outputs": [],
   "source": [
    "# Comment (not required): no trend in the scatterplot if low correlation"
   ]
  },
  {
   "cell_type": "markdown",
   "metadata": {},
   "source": [
    "### 4. Random sample of 8 companies"
   ]
  },
  {
   "cell_type": "code",
   "execution_count": 74,
   "metadata": {},
   "outputs": [
    {
     "data": {
      "text/html": [
       "<div>\n",
       "<style scoped>\n",
       "    .dataframe tbody tr th:only-of-type {\n",
       "        vertical-align: middle;\n",
       "    }\n",
       "\n",
       "    .dataframe tbody tr th {\n",
       "        vertical-align: top;\n",
       "    }\n",
       "\n",
       "    .dataframe thead th {\n",
       "        text-align: right;\n",
       "    }\n",
       "</style>\n",
       "<table border=\"1\" class=\"dataframe\">\n",
       "  <thead>\n",
       "    <tr style=\"text-align: right;\">\n",
       "      <th></th>\n",
       "      <th>Symbol</th>\n",
       "      <th>Name</th>\n",
       "      <th>Sector</th>\n",
       "    </tr>\n",
       "  </thead>\n",
       "  <tbody>\n",
       "    <tr>\n",
       "      <td>67</td>\n",
       "      <td>BA</td>\n",
       "      <td>Boeing Company</td>\n",
       "      <td>Industrials</td>\n",
       "    </tr>\n",
       "    <tr>\n",
       "      <td>146</td>\n",
       "      <td>ETN</td>\n",
       "      <td>Eaton Corporation</td>\n",
       "      <td>Industrials</td>\n",
       "    </tr>\n",
       "    <tr>\n",
       "      <td>324</td>\n",
       "      <td>PKG</td>\n",
       "      <td>Packaging Corporation of America</td>\n",
       "      <td>Materials</td>\n",
       "    </tr>\n",
       "    <tr>\n",
       "      <td>437</td>\n",
       "      <td>VMC</td>\n",
       "      <td>Vulcan Materials</td>\n",
       "      <td>Materials</td>\n",
       "    </tr>\n",
       "    <tr>\n",
       "      <td>224</td>\n",
       "      <td>INCY</td>\n",
       "      <td>Incyte</td>\n",
       "      <td>Health Care</td>\n",
       "    </tr>\n",
       "    <tr>\n",
       "      <td>283</td>\n",
       "      <td>MGM</td>\n",
       "      <td>MGM Resorts International</td>\n",
       "      <td>Consumer Discretionary</td>\n",
       "    </tr>\n",
       "    <tr>\n",
       "      <td>383</td>\n",
       "      <td>SNA</td>\n",
       "      <td>Snap-On Inc.</td>\n",
       "      <td>Consumer Discretionary</td>\n",
       "    </tr>\n",
       "    <tr>\n",
       "      <td>289</td>\n",
       "      <td>TAP</td>\n",
       "      <td>Molson Coors Brewing Company</td>\n",
       "      <td>Consumer Staples</td>\n",
       "    </tr>\n",
       "  </tbody>\n",
       "</table>\n",
       "</div>"
      ],
      "text/plain": [
       "    Symbol                              Name                  Sector\n",
       "67      BA                    Boeing Company             Industrials\n",
       "146    ETN                 Eaton Corporation             Industrials\n",
       "324    PKG  Packaging Corporation of America               Materials\n",
       "437    VMC                  Vulcan Materials               Materials\n",
       "224   INCY                            Incyte             Health Care\n",
       "283    MGM         MGM Resorts International  Consumer Discretionary\n",
       "383    SNA                      Snap-On Inc.  Consumer Discretionary\n",
       "289    TAP      Molson Coors Brewing Company        Consumer Staples"
      ]
     },
     "execution_count": 74,
     "metadata": {},
     "output_type": "execute_result"
    }
   ],
   "source": [
    "df = dfnames.sample(n=8,random_state=1)\n",
    "df"
   ]
  },
  {
   "cell_type": "markdown",
   "metadata": {},
   "source": [
    "### 5. Plot their stock prices"
   ]
  },
  {
   "cell_type": "code",
   "execution_count": 75,
   "metadata": {},
   "outputs": [],
   "source": [
    "# select these companies from dfprices"
   ]
  },
  {
   "cell_type": "code",
   "execution_count": 76,
   "metadata": {},
   "outputs": [
    {
     "data": {
      "text/plain": [
       "['BA', 'ETN', 'PKG', 'VMC', 'INCY', 'MGM', 'SNA', 'TAP']"
      ]
     },
     "execution_count": 76,
     "metadata": {},
     "output_type": "execute_result"
    }
   ],
   "source": [
    "Symbol = df['Symbol']\n",
    "list3 = list(Symbol)\n",
    "list3"
   ]
  },
  {
   "cell_type": "code",
   "execution_count": 77,
   "metadata": {},
   "outputs": [
    {
     "data": {
      "text/html": [
       "<div>\n",
       "<style scoped>\n",
       "    .dataframe tbody tr th:only-of-type {\n",
       "        vertical-align: middle;\n",
       "    }\n",
       "\n",
       "    .dataframe tbody tr th {\n",
       "        vertical-align: top;\n",
       "    }\n",
       "\n",
       "    .dataframe thead th {\n",
       "        text-align: right;\n",
       "    }\n",
       "</style>\n",
       "<table border=\"1\" class=\"dataframe\">\n",
       "  <thead>\n",
       "    <tr style=\"text-align: right;\">\n",
       "      <th></th>\n",
       "      <th>BA</th>\n",
       "      <th>ETN</th>\n",
       "      <th>PKG</th>\n",
       "      <th>VMC</th>\n",
       "      <th>INCY</th>\n",
       "      <th>MGM</th>\n",
       "      <th>SNA</th>\n",
       "      <th>TAP</th>\n",
       "    </tr>\n",
       "    <tr>\n",
       "      <th>Date</th>\n",
       "      <th></th>\n",
       "      <th></th>\n",
       "      <th></th>\n",
       "      <th></th>\n",
       "      <th></th>\n",
       "      <th></th>\n",
       "      <th></th>\n",
       "      <th></th>\n",
       "    </tr>\n",
       "  </thead>\n",
       "  <tbody>\n",
       "    <tr>\n",
       "      <td>2019-01-02</td>\n",
       "      <td>314.645142</td>\n",
       "      <td>39.129158</td>\n",
       "      <td>80.590820</td>\n",
       "      <td>96.088844</td>\n",
       "      <td>63.560001</td>\n",
       "      <td>24.545595</td>\n",
       "      <td>141.698990</td>\n",
       "      <td>54.407227</td>\n",
       "    </tr>\n",
       "    <tr>\n",
       "      <td>2019-01-03</td>\n",
       "      <td>302.100555</td>\n",
       "      <td>37.999931</td>\n",
       "      <td>79.008545</td>\n",
       "      <td>95.104233</td>\n",
       "      <td>68.059998</td>\n",
       "      <td>24.068127</td>\n",
       "      <td>139.777145</td>\n",
       "      <td>55.150570</td>\n",
       "    </tr>\n",
       "    <tr>\n",
       "      <td>2019-01-04</td>\n",
       "      <td>317.822601</td>\n",
       "      <td>39.083527</td>\n",
       "      <td>82.134964</td>\n",
       "      <td>99.968254</td>\n",
       "      <td>72.269997</td>\n",
       "      <td>25.110756</td>\n",
       "      <td>144.879669</td>\n",
       "      <td>56.904106</td>\n",
       "    </tr>\n",
       "    <tr>\n",
       "      <td>2019-01-07</td>\n",
       "      <td>318.823395</td>\n",
       "      <td>39.197590</td>\n",
       "      <td>82.945152</td>\n",
       "      <td>101.957176</td>\n",
       "      <td>74.209999</td>\n",
       "      <td>25.831825</td>\n",
       "      <td>146.734268</td>\n",
       "      <td>56.780216</td>\n",
       "    </tr>\n",
       "    <tr>\n",
       "      <td>2019-01-08</td>\n",
       "      <td>330.891937</td>\n",
       "      <td>38.883915</td>\n",
       "      <td>85.080261</td>\n",
       "      <td>101.553482</td>\n",
       "      <td>74.900002</td>\n",
       "      <td>26.513918</td>\n",
       "      <td>148.608078</td>\n",
       "      <td>58.295494</td>\n",
       "    </tr>\n",
       "  </tbody>\n",
       "</table>\n",
       "</div>"
      ],
      "text/plain": [
       "                    BA        ETN        PKG         VMC       INCY  \\\n",
       "Date                                                                  \n",
       "2019-01-02  314.645142  39.129158  80.590820   96.088844  63.560001   \n",
       "2019-01-03  302.100555  37.999931  79.008545   95.104233  68.059998   \n",
       "2019-01-04  317.822601  39.083527  82.134964   99.968254  72.269997   \n",
       "2019-01-07  318.823395  39.197590  82.945152  101.957176  74.209999   \n",
       "2019-01-08  330.891937  38.883915  85.080261  101.553482  74.900002   \n",
       "\n",
       "                  MGM         SNA        TAP  \n",
       "Date                                          \n",
       "2019-01-02  24.545595  141.698990  54.407227  \n",
       "2019-01-03  24.068127  139.777145  55.150570  \n",
       "2019-01-04  25.110756  144.879669  56.904106  \n",
       "2019-01-07  25.831825  146.734268  56.780216  \n",
       "2019-01-08  26.513918  148.608078  58.295494  "
      ]
     },
     "execution_count": 77,
     "metadata": {},
     "output_type": "execute_result"
    }
   ],
   "source": [
    "dfprices8 = dfprices[list3]\n",
    "dfprices8[:5]"
   ]
  },
  {
   "cell_type": "code",
   "execution_count": 78,
   "metadata": {},
   "outputs": [
    {
     "data": {
      "image/png": "[encoded data removed]",
      "text/plain": [
       "<Figure size 432x288 with 1 Axes>"
      ]
     },
     "metadata": {
      "needs_background": "light"
     },
     "output_type": "display_data"
    }
   ],
   "source": [
    "dfprices8.plot(grid=True)\n",
    "plt.ylim(-10,700)\n",
    "plt.legend(loc=1, prop={'size': 8})\n",
    "plt.gcf().autofmt_xdate() # Rotate x-labels\n",
    "plt.xlabel('');"
   ]
  },
  {
   "cell_type": "code",
   "execution_count": null,
   "metadata": {},
   "outputs": [],
   "source": []
  },
  {
   "cell_type": "markdown",
   "metadata": {},
   "source": [
    "### 6. Riskiest stock"
   ]
  },
  {
   "cell_type": "code",
   "execution_count": 79,
   "metadata": {},
   "outputs": [],
   "source": [
    "# Find net returns then its standard deviation"
   ]
  },
  {
   "cell_type": "code",
   "execution_count": 80,
   "metadata": {},
   "outputs": [
    {
     "data": {
      "text/html": [
       "<div>\n",
       "<style scoped>\n",
       "    .dataframe tbody tr th:only-of-type {\n",
       "        vertical-align: middle;\n",
       "    }\n",
       "\n",
       "    .dataframe tbody tr th {\n",
       "        vertical-align: top;\n",
       "    }\n",
       "\n",
       "    .dataframe thead th {\n",
       "        text-align: right;\n",
       "    }\n",
       "</style>\n",
       "<table border=\"1\" class=\"dataframe\">\n",
       "  <thead>\n",
       "    <tr style=\"text-align: right;\">\n",
       "      <th></th>\n",
       "      <th>BA</th>\n",
       "      <th>ETN</th>\n",
       "      <th>PKG</th>\n",
       "      <th>VMC</th>\n",
       "      <th>INCY</th>\n",
       "      <th>MGM</th>\n",
       "      <th>SNA</th>\n",
       "      <th>TAP</th>\n",
       "    </tr>\n",
       "    <tr>\n",
       "      <th>Date</th>\n",
       "      <th></th>\n",
       "      <th></th>\n",
       "      <th></th>\n",
       "      <th></th>\n",
       "      <th></th>\n",
       "      <th></th>\n",
       "      <th></th>\n",
       "      <th></th>\n",
       "    </tr>\n",
       "  </thead>\n",
       "  <tbody>\n",
       "    <tr>\n",
       "      <td>2019-01-02</td>\n",
       "      <td>NaN</td>\n",
       "      <td>NaN</td>\n",
       "      <td>NaN</td>\n",
       "      <td>NaN</td>\n",
       "      <td>NaN</td>\n",
       "      <td>NaN</td>\n",
       "      <td>NaN</td>\n",
       "      <td>NaN</td>\n",
       "    </tr>\n",
       "    <tr>\n",
       "      <td>2019-01-03</td>\n",
       "      <td>-0.039869</td>\n",
       "      <td>-0.028859</td>\n",
       "      <td>-0.019633</td>\n",
       "      <td>-0.010247</td>\n",
       "      <td>0.070799</td>\n",
       "      <td>-0.019452</td>\n",
       "      <td>-0.013563</td>\n",
       "      <td>0.013663</td>\n",
       "    </tr>\n",
       "    <tr>\n",
       "      <td>2019-01-04</td>\n",
       "      <td>0.052042</td>\n",
       "      <td>0.028516</td>\n",
       "      <td>0.039571</td>\n",
       "      <td>0.051144</td>\n",
       "      <td>0.061857</td>\n",
       "      <td>0.043320</td>\n",
       "      <td>0.036505</td>\n",
       "      <td>0.031795</td>\n",
       "    </tr>\n",
       "    <tr>\n",
       "      <td>2019-01-07</td>\n",
       "      <td>0.003149</td>\n",
       "      <td>0.002918</td>\n",
       "      <td>0.009864</td>\n",
       "      <td>0.019896</td>\n",
       "      <td>0.026844</td>\n",
       "      <td>0.028716</td>\n",
       "      <td>0.012801</td>\n",
       "      <td>-0.002177</td>\n",
       "    </tr>\n",
       "    <tr>\n",
       "      <td>2019-01-08</td>\n",
       "      <td>0.037853</td>\n",
       "      <td>-0.008002</td>\n",
       "      <td>0.025741</td>\n",
       "      <td>-0.003959</td>\n",
       "      <td>0.009298</td>\n",
       "      <td>0.026405</td>\n",
       "      <td>0.012770</td>\n",
       "      <td>0.026687</td>\n",
       "    </tr>\n",
       "  </tbody>\n",
       "</table>\n",
       "</div>"
      ],
      "text/plain": [
       "                  BA       ETN       PKG       VMC      INCY       MGM  \\\n",
       "Date                                                                     \n",
       "2019-01-02       NaN       NaN       NaN       NaN       NaN       NaN   \n",
       "2019-01-03 -0.039869 -0.028859 -0.019633 -0.010247  0.070799 -0.019452   \n",
       "2019-01-04  0.052042  0.028516  0.039571  0.051144  0.061857  0.043320   \n",
       "2019-01-07  0.003149  0.002918  0.009864  0.019896  0.026844  0.028716   \n",
       "2019-01-08  0.037853 -0.008002  0.025741 -0.003959  0.009298  0.026405   \n",
       "\n",
       "                 SNA       TAP  \n",
       "Date                            \n",
       "2019-01-02       NaN       NaN  \n",
       "2019-01-03 -0.013563  0.013663  \n",
       "2019-01-04  0.036505  0.031795  \n",
       "2019-01-07  0.012801 -0.002177  \n",
       "2019-01-08  0.012770  0.026687  "
      ]
     },
     "execution_count": 80,
     "metadata": {},
     "output_type": "execute_result"
    }
   ],
   "source": [
    "net_returns8 = net_returns[list3]\n",
    "net_returns8[:5]"
   ]
  },
  {
   "cell_type": "code",
   "execution_count": 81,
   "metadata": {},
   "outputs": [
    {
     "data": {
      "text/plain": [
       "BA      0.041064\n",
       "ETN     0.045241\n",
       "PKG     0.024042\n",
       "VMC     0.026407\n",
       "INCY    0.023205\n",
       "MGM     0.045427\n",
       "SNA     0.025258\n",
       "TAP     0.023486\n",
       "dtype: float64"
      ]
     },
     "execution_count": 81,
     "metadata": {},
     "output_type": "execute_result"
    }
   ],
   "source": [
    "net_returns8.std()"
   ]
  },
  {
   "cell_type": "code",
   "execution_count": 82,
   "metadata": {},
   "outputs": [],
   "source": [
    "# MGM has the largest std deviation"
   ]
  },
  {
   "cell_type": "code",
   "execution_count": 83,
   "metadata": {},
   "outputs": [
    {
     "data": {
      "text/html": [
       "<div>\n",
       "<style scoped>\n",
       "    .dataframe tbody tr th:only-of-type {\n",
       "        vertical-align: middle;\n",
       "    }\n",
       "\n",
       "    .dataframe tbody tr th {\n",
       "        vertical-align: top;\n",
       "    }\n",
       "\n",
       "    .dataframe thead th {\n",
       "        text-align: right;\n",
       "    }\n",
       "</style>\n",
       "<table border=\"1\" class=\"dataframe\">\n",
       "  <thead>\n",
       "    <tr style=\"text-align: right;\">\n",
       "      <th></th>\n",
       "      <th>Symbol</th>\n",
       "      <th>Name</th>\n",
       "      <th>Sector</th>\n",
       "    </tr>\n",
       "  </thead>\n",
       "  <tbody>\n",
       "    <tr>\n",
       "      <td>283</td>\n",
       "      <td>MGM</td>\n",
       "      <td>MGM Resorts International</td>\n",
       "      <td>Consumer Discretionary</td>\n",
       "    </tr>\n",
       "  </tbody>\n",
       "</table>\n",
       "</div>"
      ],
      "text/plain": [
       "    Symbol                       Name                  Sector\n",
       "283    MGM  MGM Resorts International  Consumer Discretionary"
      ]
     },
     "execution_count": 83,
     "metadata": {},
     "output_type": "execute_result"
    }
   ],
   "source": [
    "dfnames[(dfnames['Symbol'] == 'MGM')]"
   ]
  },
  {
   "cell_type": "markdown",
   "metadata": {},
   "source": [
    "### 7. Plot the stock cumulative gross returns"
   ]
  },
  {
   "cell_type": "code",
   "execution_count": 84,
   "metadata": {},
   "outputs": [],
   "source": [
    "# Find cumulative gross returns"
   ]
  },
  {
   "cell_type": "code",
   "execution_count": 85,
   "metadata": {},
   "outputs": [
    {
     "data": {
      "text/html": [
       "<div>\n",
       "<style scoped>\n",
       "    .dataframe tbody tr th:only-of-type {\n",
       "        vertical-align: middle;\n",
       "    }\n",
       "\n",
       "    .dataframe tbody tr th {\n",
       "        vertical-align: top;\n",
       "    }\n",
       "\n",
       "    .dataframe thead th {\n",
       "        text-align: right;\n",
       "    }\n",
       "</style>\n",
       "<table border=\"1\" class=\"dataframe\">\n",
       "  <thead>\n",
       "    <tr style=\"text-align: right;\">\n",
       "      <th></th>\n",
       "      <th>BA</th>\n",
       "      <th>ETN</th>\n",
       "      <th>PKG</th>\n",
       "      <th>VMC</th>\n",
       "      <th>INCY</th>\n",
       "      <th>MGM</th>\n",
       "      <th>SNA</th>\n",
       "      <th>TAP</th>\n",
       "    </tr>\n",
       "    <tr>\n",
       "      <th>Date</th>\n",
       "      <th></th>\n",
       "      <th></th>\n",
       "      <th></th>\n",
       "      <th></th>\n",
       "      <th></th>\n",
       "      <th></th>\n",
       "      <th></th>\n",
       "      <th></th>\n",
       "    </tr>\n",
       "  </thead>\n",
       "  <tbody>\n",
       "    <tr>\n",
       "      <td>2019-01-02</td>\n",
       "      <td>NaN</td>\n",
       "      <td>NaN</td>\n",
       "      <td>NaN</td>\n",
       "      <td>NaN</td>\n",
       "      <td>NaN</td>\n",
       "      <td>NaN</td>\n",
       "      <td>NaN</td>\n",
       "      <td>NaN</td>\n",
       "    </tr>\n",
       "    <tr>\n",
       "      <td>2019-01-03</td>\n",
       "      <td>0.960131</td>\n",
       "      <td>0.971141</td>\n",
       "      <td>0.980367</td>\n",
       "      <td>0.989753</td>\n",
       "      <td>1.070799</td>\n",
       "      <td>0.980548</td>\n",
       "      <td>0.986437</td>\n",
       "      <td>1.013663</td>\n",
       "    </tr>\n",
       "    <tr>\n",
       "      <td>2019-01-04</td>\n",
       "      <td>1.010099</td>\n",
       "      <td>0.998834</td>\n",
       "      <td>1.019160</td>\n",
       "      <td>1.040373</td>\n",
       "      <td>1.137036</td>\n",
       "      <td>1.023025</td>\n",
       "      <td>1.022447</td>\n",
       "      <td>1.045892</td>\n",
       "    </tr>\n",
       "    <tr>\n",
       "      <td>2019-01-07</td>\n",
       "      <td>1.013279</td>\n",
       "      <td>1.001749</td>\n",
       "      <td>1.029213</td>\n",
       "      <td>1.061072</td>\n",
       "      <td>1.167558</td>\n",
       "      <td>1.052402</td>\n",
       "      <td>1.035535</td>\n",
       "      <td>1.043615</td>\n",
       "    </tr>\n",
       "    <tr>\n",
       "      <td>2019-01-08</td>\n",
       "      <td>1.051635</td>\n",
       "      <td>0.993732</td>\n",
       "      <td>1.055707</td>\n",
       "      <td>1.056871</td>\n",
       "      <td>1.178414</td>\n",
       "      <td>1.080190</td>\n",
       "      <td>1.048759</td>\n",
       "      <td>1.071466</td>\n",
       "    </tr>\n",
       "  </tbody>\n",
       "</table>\n",
       "</div>"
      ],
      "text/plain": [
       "                  BA       ETN       PKG       VMC      INCY       MGM  \\\n",
       "Date                                                                     \n",
       "2019-01-02       NaN       NaN       NaN       NaN       NaN       NaN   \n",
       "2019-01-03  0.960131  0.971141  0.980367  0.989753  1.070799  0.980548   \n",
       "2019-01-04  1.010099  0.998834  1.019160  1.040373  1.137036  1.023025   \n",
       "2019-01-07  1.013279  1.001749  1.029213  1.061072  1.167558  1.052402   \n",
       "2019-01-08  1.051635  0.993732  1.055707  1.056871  1.178414  1.080190   \n",
       "\n",
       "                 SNA       TAP  \n",
       "Date                            \n",
       "2019-01-02       NaN       NaN  \n",
       "2019-01-03  0.986437  1.013663  \n",
       "2019-01-04  1.022447  1.045892  \n",
       "2019-01-07  1.035535  1.043615  \n",
       "2019-01-08  1.048759  1.071466  "
      ]
     },
     "execution_count": 85,
     "metadata": {},
     "output_type": "execute_result"
    }
   ],
   "source": [
    "gross_returns8 = net_returns8 + 1\n",
    "cum_gross_returns8 = gross_returns8.cumprod()\n",
    "cum_gross_returns8[:5]"
   ]
  },
  {
   "cell_type": "code",
   "execution_count": 86,
   "metadata": {},
   "outputs": [
    {
     "data": {
      "text/html": [
       "<div>\n",
       "<style scoped>\n",
       "    .dataframe tbody tr th:only-of-type {\n",
       "        vertical-align: middle;\n",
       "    }\n",
       "\n",
       "    .dataframe tbody tr th {\n",
       "        vertical-align: top;\n",
       "    }\n",
       "\n",
       "    .dataframe thead th {\n",
       "        text-align: right;\n",
       "    }\n",
       "</style>\n",
       "<table border=\"1\" class=\"dataframe\">\n",
       "  <thead>\n",
       "    <tr style=\"text-align: right;\">\n",
       "      <th></th>\n",
       "      <th>BA</th>\n",
       "      <th>ETN</th>\n",
       "      <th>PKG</th>\n",
       "      <th>VMC</th>\n",
       "      <th>INCY</th>\n",
       "      <th>MGM</th>\n",
       "      <th>SNA</th>\n",
       "      <th>TAP</th>\n",
       "    </tr>\n",
       "    <tr>\n",
       "      <th>Date</th>\n",
       "      <th></th>\n",
       "      <th></th>\n",
       "      <th></th>\n",
       "      <th></th>\n",
       "      <th></th>\n",
       "      <th></th>\n",
       "      <th></th>\n",
       "      <th></th>\n",
       "    </tr>\n",
       "  </thead>\n",
       "  <tbody>\n",
       "    <tr>\n",
       "      <td>2020-05-22</td>\n",
       "      <td>0.437096</td>\n",
       "      <td>2.010521</td>\n",
       "      <td>1.144564</td>\n",
       "      <td>1.039038</td>\n",
       "      <td>1.563405</td>\n",
       "      <td>0.647692</td>\n",
       "      <td>0.909534</td>\n",
       "      <td>0.676932</td>\n",
       "    </tr>\n",
       "    <tr>\n",
       "      <td>2020-05-26</td>\n",
       "      <td>0.459978</td>\n",
       "      <td>2.093579</td>\n",
       "      <td>1.210661</td>\n",
       "      <td>1.089929</td>\n",
       "      <td>1.552549</td>\n",
       "      <td>0.718979</td>\n",
       "      <td>0.966838</td>\n",
       "      <td>0.675094</td>\n",
       "    </tr>\n",
       "    <tr>\n",
       "      <td>2020-05-27</td>\n",
       "      <td>0.475202</td>\n",
       "      <td>2.205005</td>\n",
       "      <td>1.261126</td>\n",
       "      <td>1.160489</td>\n",
       "      <td>1.545312</td>\n",
       "      <td>0.737717</td>\n",
       "      <td>0.961263</td>\n",
       "      <td>0.730418</td>\n",
       "    </tr>\n",
       "    <tr>\n",
       "      <td>2020-05-28</td>\n",
       "      <td>0.476155</td>\n",
       "      <td>2.175615</td>\n",
       "      <td>1.251771</td>\n",
       "      <td>1.148625</td>\n",
       "      <td>1.581970</td>\n",
       "      <td>0.701870</td>\n",
       "      <td>0.943902</td>\n",
       "      <td>0.704870</td>\n",
       "    </tr>\n",
       "    <tr>\n",
       "      <td>2020-05-29</td>\n",
       "      <td>0.463538</td>\n",
       "      <td>2.169738</td>\n",
       "      <td>1.248202</td>\n",
       "      <td>1.127290</td>\n",
       "      <td>1.603367</td>\n",
       "      <td>0.699834</td>\n",
       "      <td>0.915250</td>\n",
       "      <td>0.697701</td>\n",
       "    </tr>\n",
       "  </tbody>\n",
       "</table>\n",
       "</div>"
      ],
      "text/plain": [
       "                  BA       ETN       PKG       VMC      INCY       MGM  \\\n",
       "Date                                                                     \n",
       "2020-05-22  0.437096  2.010521  1.144564  1.039038  1.563405  0.647692   \n",
       "2020-05-26  0.459978  2.093579  1.210661  1.089929  1.552549  0.718979   \n",
       "2020-05-27  0.475202  2.205005  1.261126  1.160489  1.545312  0.737717   \n",
       "2020-05-28  0.476155  2.175615  1.251771  1.148625  1.581970  0.701870   \n",
       "2020-05-29  0.463538  2.169738  1.248202  1.127290  1.603367  0.699834   \n",
       "\n",
       "                 SNA       TAP  \n",
       "Date                            \n",
       "2020-05-22  0.909534  0.676932  \n",
       "2020-05-26  0.966838  0.675094  \n",
       "2020-05-27  0.961263  0.730418  \n",
       "2020-05-28  0.943902  0.704870  \n",
       "2020-05-29  0.915250  0.697701  "
      ]
     },
     "execution_count": 86,
     "metadata": {},
     "output_type": "execute_result"
    }
   ],
   "source": [
    "cum_gross_returns8[-5:]"
   ]
  },
  {
   "cell_type": "code",
   "execution_count": 87,
   "metadata": {},
   "outputs": [
    {
     "data": {
      "text/plain": [
       "(355, 8)"
      ]
     },
     "execution_count": 87,
     "metadata": {},
     "output_type": "execute_result"
    }
   ],
   "source": [
    "cum_gross_returns8.shape"
   ]
  },
  {
   "cell_type": "code",
   "execution_count": 88,
   "metadata": {},
   "outputs": [
    {
     "data": {
      "image/png": "[encoded data removed]",
      "text/plain": [
       "<Figure size 864x432 with 1 Axes>"
      ]
     },
     "metadata": {
      "needs_background": "light"
     },
     "output_type": "display_data"
    }
   ],
   "source": [
    "cum_gross_returns8.plot(figsize=(12,6),grid=True);"
   ]
  },
  {
   "cell_type": "code",
   "execution_count": 89,
   "metadata": {},
   "outputs": [],
   "source": [
    "# Stock with the largest price increase was ETN "
   ]
  },
  {
   "cell_type": "markdown",
   "metadata": {},
   "source": [
    "### 8. Stock with the largest average return"
   ]
  },
  {
   "cell_type": "code",
   "execution_count": 90,
   "metadata": {},
   "outputs": [],
   "source": [
    "# first find the log of gross returns"
   ]
  },
  {
   "cell_type": "code",
   "execution_count": 91,
   "metadata": {},
   "outputs": [
    {
     "data": {
      "text/html": [
       "<div>\n",
       "<style scoped>\n",
       "    .dataframe tbody tr th:only-of-type {\n",
       "        vertical-align: middle;\n",
       "    }\n",
       "\n",
       "    .dataframe tbody tr th {\n",
       "        vertical-align: top;\n",
       "    }\n",
       "\n",
       "    .dataframe thead th {\n",
       "        text-align: right;\n",
       "    }\n",
       "</style>\n",
       "<table border=\"1\" class=\"dataframe\">\n",
       "  <thead>\n",
       "    <tr style=\"text-align: right;\">\n",
       "      <th></th>\n",
       "      <th>BA</th>\n",
       "      <th>ETN</th>\n",
       "      <th>PKG</th>\n",
       "      <th>VMC</th>\n",
       "      <th>INCY</th>\n",
       "      <th>MGM</th>\n",
       "      <th>SNA</th>\n",
       "      <th>TAP</th>\n",
       "    </tr>\n",
       "    <tr>\n",
       "      <th>Date</th>\n",
       "      <th></th>\n",
       "      <th></th>\n",
       "      <th></th>\n",
       "      <th></th>\n",
       "      <th></th>\n",
       "      <th></th>\n",
       "      <th></th>\n",
       "      <th></th>\n",
       "    </tr>\n",
       "  </thead>\n",
       "  <tbody>\n",
       "    <tr>\n",
       "      <td>2019-01-02</td>\n",
       "      <td>NaN</td>\n",
       "      <td>NaN</td>\n",
       "      <td>NaN</td>\n",
       "      <td>NaN</td>\n",
       "      <td>NaN</td>\n",
       "      <td>NaN</td>\n",
       "      <td>NaN</td>\n",
       "      <td>NaN</td>\n",
       "    </tr>\n",
       "    <tr>\n",
       "      <td>2019-01-03</td>\n",
       "      <td>-0.040686</td>\n",
       "      <td>-0.029284</td>\n",
       "      <td>-0.019829</td>\n",
       "      <td>-0.010300</td>\n",
       "      <td>0.068405</td>\n",
       "      <td>-0.019644</td>\n",
       "      <td>-0.013656</td>\n",
       "      <td>0.013570</td>\n",
       "    </tr>\n",
       "    <tr>\n",
       "      <td>2019-01-04</td>\n",
       "      <td>0.050733</td>\n",
       "      <td>0.028117</td>\n",
       "      <td>0.038808</td>\n",
       "      <td>0.049879</td>\n",
       "      <td>0.060019</td>\n",
       "      <td>0.042408</td>\n",
       "      <td>0.035854</td>\n",
       "      <td>0.031300</td>\n",
       "    </tr>\n",
       "    <tr>\n",
       "      <td>2019-01-07</td>\n",
       "      <td>0.003144</td>\n",
       "      <td>0.002914</td>\n",
       "      <td>0.009816</td>\n",
       "      <td>0.019700</td>\n",
       "      <td>0.026490</td>\n",
       "      <td>0.028311</td>\n",
       "      <td>0.012720</td>\n",
       "      <td>-0.002180</td>\n",
       "    </tr>\n",
       "    <tr>\n",
       "      <td>2019-01-08</td>\n",
       "      <td>0.037155</td>\n",
       "      <td>-0.008035</td>\n",
       "      <td>0.025415</td>\n",
       "      <td>-0.003967</td>\n",
       "      <td>0.009255</td>\n",
       "      <td>0.026063</td>\n",
       "      <td>0.012689</td>\n",
       "      <td>0.026337</td>\n",
       "    </tr>\n",
       "  </tbody>\n",
       "</table>\n",
       "</div>"
      ],
      "text/plain": [
       "                  BA       ETN       PKG       VMC      INCY       MGM  \\\n",
       "Date                                                                     \n",
       "2019-01-02       NaN       NaN       NaN       NaN       NaN       NaN   \n",
       "2019-01-03 -0.040686 -0.029284 -0.019829 -0.010300  0.068405 -0.019644   \n",
       "2019-01-04  0.050733  0.028117  0.038808  0.049879  0.060019  0.042408   \n",
       "2019-01-07  0.003144  0.002914  0.009816  0.019700  0.026490  0.028311   \n",
       "2019-01-08  0.037155 -0.008035  0.025415 -0.003967  0.009255  0.026063   \n",
       "\n",
       "                 SNA       TAP  \n",
       "Date                            \n",
       "2019-01-02       NaN       NaN  \n",
       "2019-01-03 -0.013656  0.013570  \n",
       "2019-01-04  0.035854  0.031300  \n",
       "2019-01-07  0.012720 -0.002180  \n",
       "2019-01-08  0.012689  0.026337  "
      ]
     },
     "execution_count": 91,
     "metadata": {},
     "output_type": "execute_result"
    }
   ],
   "source": [
    "log_gross_returns8 = np.log(gross_returns8)\n",
    "log_gross_returns8[:5]"
   ]
  },
  {
   "cell_type": "code",
   "execution_count": 92,
   "metadata": {},
   "outputs": [],
   "source": [
    "# Then find the average log gross return for each stock"
   ]
  },
  {
   "cell_type": "code",
   "execution_count": 93,
   "metadata": {},
   "outputs": [
    {
     "data": {
      "text/plain": [
       "BA     -0.002172\n",
       "ETN     0.002188\n",
       "PKG     0.000626\n",
       "VMC     0.000338\n",
       "INCY    0.001334\n",
       "MGM    -0.001008\n",
       "SNA    -0.000250\n",
       "TAP    -0.001017\n",
       "dtype: float64"
      ]
     },
     "execution_count": 93,
     "metadata": {},
     "output_type": "execute_result"
    }
   ],
   "source": [
    "avg_log_gross_ret = log_gross_returns8.mean()\n",
    "avg_log_gross_ret"
   ]
  },
  {
   "cell_type": "code",
   "execution_count": 94,
   "metadata": {},
   "outputs": [],
   "source": [
    "# Finally exponentiate that average"
   ]
  },
  {
   "cell_type": "code",
   "execution_count": 95,
   "metadata": {
    "scrolled": true
   },
   "outputs": [
    {
     "data": {
      "text/plain": [
       "BA      0.997830\n",
       "ETN     1.002191\n",
       "PKG     1.000626\n",
       "VMC     1.000339\n",
       "INCY    1.001335\n",
       "MGM     0.998992\n",
       "SNA     0.999750\n",
       "TAP     0.998984\n",
       "dtype: float64"
      ]
     },
     "execution_count": 95,
     "metadata": {},
     "output_type": "execute_result"
    }
   ],
   "source": [
    "avg_gross_returns = np.exp(avg_log_gross_ret)\n",
    "avg_gross_returns"
   ]
  },
  {
   "cell_type": "code",
   "execution_count": 96,
   "metadata": {},
   "outputs": [],
   "source": [
    "# Conclusion: ETN had the largest daily average return"
   ]
  }
 ],
 "metadata": {
  "kernelspec": {
   "display_name": "Python 3",
   "language": "python",
   "name": "python3"
  },
  "language_info": {
   "codemirror_mode": {
    "name": "ipython",
    "version": 3
   },
   "file_extension": ".py",
   "mimetype": "text/x-python",
   "name": "python",
   "nbconvert_exporter": "python",
   "pygments_lexer": "ipython3",
   "version": "3.8.8"
  }
 },
 "nbformat": 4,
 "nbformat_minor": 1
}
